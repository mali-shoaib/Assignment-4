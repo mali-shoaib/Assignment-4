{
  "cells": [
    {
      "cell_type": "markdown",
      "metadata": {
        "id": "view-in-github",
        "colab_type": "text"
      },
      "source": [
        "<a href=\"https://colab.research.google.com/github/mali-shoaib/Assignment-4/blob/main/05_loops_control_flow.ipynb\" target=\"_parent\"><img src=\"https://colab.research.google.com/assets/colab-badge.svg\" alt=\"Open In Colab\"/></a>"
      ]
    },
    {
      "cell_type": "code",
      "execution_count": null,
      "metadata": {
        "colab": {
          "base_uri": "https://localhost:8080/"
        },
        "id": "_BNTRrDvWnx8",
        "outputId": "b4b9a002-b627-45a1-d3aa-dcefba61b568"
      },
      "outputs": [
        {
          "name": "stdout",
          "output_type": "stream",
          "text": [
            "00_guess_my_number.\n",
            "I am thinking of a number between 1 and 100....\n",
            "Enter a guess: 1\n",
            "Your guess is too low.\n",
            "Enter a guess: 99\n",
            "Your guess is too high.\n",
            "Enter a guess: 67\n",
            "Your guess is too high.\n",
            "Enter a guess: 65\n",
            "Your guess is too high.\n",
            "Enter a guess: 94\n",
            "Your guess is too high.\n"
          ]
        }
      ],
      "source": [
        "import random\n",
        "\n",
        "print(\"00_guess_my_number.\")\n",
        "\n",
        "def main():\n",
        "  secret_number = random.randint(1,100)\n",
        "  print(\"I am thinking of a number between 1 and 100....\")\n",
        "\n",
        "  guess = int(input(\"Enter a guess: \"))\n",
        "\n",
        "  while guess != secret_number:\n",
        "    if guess < secret_number:\n",
        "      print(\"Your guess is too low.\")\n",
        "    else:\n",
        "      print(\"Your guess is too high.\")\n",
        "    guess = int(input(\"Enter a guess: \"))\n",
        "\n",
        "  print(f\"Congratulation! The number was {secret_number}\")\n",
        "\n",
        "\n",
        "if __name__ == \"__main__\":\n",
        "  main()\n",
        "\n"
      ]
    },
    {
      "cell_type": "code",
      "execution_count": null,
      "metadata": {
        "colab": {
          "base_uri": "https://localhost:8080/"
        },
        "id": "9AqQ2OMxXOjd",
        "outputId": "0e9d69e1-2c1a-4dad-d06e-d094a10157d8"
      },
      "outputs": [
        {
          "name": "stdout",
          "output_type": "stream",
          "text": [
            "01_fibonacci\n",
            "0 1 1 2 3 5 8 13 21 34 55 89 144 233 377 610 987 1597 2584 4181 6765 "
          ]
        }
      ],
      "source": [
        "print(\"01_fibonacci\")\n",
        "\n",
        "max_value = 10000\n",
        "\n",
        "def main():\n",
        "  a,b = 0,1\n",
        "  print(a,b, end = \" \")\n",
        "\n",
        "  while True:\n",
        "    c = a+b\n",
        "    if c >= max_value:\n",
        "      break\n",
        "    print(c, end=\" \")\n",
        "    a,b = b,c\n",
        "\n",
        "if __name__ == \"__main__\":\n",
        "  main()\n"
      ]
    },
    {
      "cell_type": "code",
      "execution_count": null,
      "metadata": {
        "colab": {
          "base_uri": "https://localhost:8080/"
        },
        "id": "GbbusZwAl06k",
        "outputId": "c23e4c82-7c0a-4480-b8e4-d242bd5148f6"
      },
      "outputs": [
        {
          "name": "stdout",
          "output_type": "stream",
          "text": [
            "02_print_events\n",
            "0\n",
            "2\n",
            "4\n",
            "6\n",
            "8\n",
            "10\n",
            "12\n",
            "14\n",
            "16\n",
            "18\n",
            "20\n",
            "22\n",
            "24\n",
            "26\n",
            "28\n",
            "30\n",
            "32\n",
            "34\n",
            "36\n",
            "38\n"
          ]
        }
      ],
      "source": [
        "print(\"02_print_events\")\n",
        "\n",
        "def main():\n",
        "  for i in range(20):\n",
        "    print(i*2)\n",
        "\n",
        "if __name__ == \"__main__\":\n",
        "  main()"
      ]
    },
    {
      "cell_type": "code",
      "execution_count": null,
      "metadata": {
        "colab": {
          "background_save": true,
          "base_uri": "https://localhost:8080/"
        },
        "id": "aCsYWfeNl6mZ",
        "outputId": "2d1463c1-4622-4f6c-a0de-1abbea1804a1"
      },
      "outputs": [
        {
          "name": "stdout",
          "output_type": "stream",
          "text": [
            "03_wholesome_machine\n",
            "Welcome to the Wholesome Machine\n",
            "Hmmm That was not the affermation. Please Try Again!\n",
            "Hmmm That was not the affermation. Please Try Again!\n",
            "Hmmm That was not the affermation. Please Try Again!\n",
            "Hmmm That was not the affermation. Please Try Again!\n"
          ]
        }
      ],
      "source": [
        "print(\"03_wholesome_machine\")\n",
        "\n",
        "correct_affermation = \"I am capable of doing anything. I put my mind too.\"\n",
        "\n",
        "def main():\n",
        "  print(\"Welcome to the Wholesome Machine\")\n",
        "  while True:\n",
        "    user_input = input(\"Please type the following affermation:\" + correct_affermation)\n",
        "    if user_input == correct_affermation:\n",
        "      print(\"That\\'s right! \")\n",
        "      break\n",
        "    else:\n",
        "      print(\"Hmmm That was not the affermation. Please Try Again!\")\n",
        "\n",
        "if __name__ == \"__main__\":\n",
        "  main()\n"
      ]
    },
    {
      "cell_type": "code",
      "execution_count": 1,
      "metadata": {
        "id": "X-dnH54mmcT5",
        "colab": {
          "base_uri": "https://localhost:8080/"
        },
        "outputId": "c676fbf0-db2a-4465-ea84-07e6a27360fe"
      },
      "outputs": [
        {
          "output_type": "stream",
          "name": "stdout",
          "text": [
            "04_liftoff\n",
            "10 9 8 7 6 5 4 3 2 1 liftoff\n"
          ]
        }
      ],
      "source": [
        "print(\"04_liftoff\")\n",
        "\n",
        "def main():\n",
        "  for i in range(10,0, -1):\n",
        "    print(i,end = \" \")\n",
        "  print(\"liftoff\")\n",
        "\n",
        "\n",
        "if __name__ == \"__main__\":\n",
        "  main()"
      ]
    },
    {
      "cell_type": "code",
      "execution_count": 2,
      "metadata": {
        "id": "RQ4US3zenEFU",
        "colab": {
          "base_uri": "https://localhost:8080/"
        },
        "outputId": "1d008ded-3cfe-4330-e22c-d798141877b8"
      },
      "outputs": [
        {
          "output_type": "stream",
          "name": "stdout",
          "text": [
            "05_double_it\n",
            "Enter a number: 5\n",
            "10\n",
            "20\n",
            "40\n",
            "80\n",
            "160\n"
          ]
        }
      ],
      "source": [
        "print(\"05_double_it\")\n",
        "\n",
        "def main():\n",
        "  user_value = int(input(\"Enter a number: \"))\n",
        "  while user_value < 100:\n",
        "    user_value = user_value * 2\n",
        "    print(user_value)\n",
        "\n",
        "if __name__ == \"__main__\":\n",
        "  main()\n"
      ]
    }
  ],
  "metadata": {
    "colab": {
      "provenance": [],
      "authorship_tag": "ABX9TyNhWVr9jDr4fmGamxS3pdqJ",
      "include_colab_link": true
    },
    "kernelspec": {
      "display_name": "Python 3",
      "name": "python3"
    },
    "language_info": {
      "name": "python"
    }
  },
  "nbformat": 4,
  "nbformat_minor": 0
}